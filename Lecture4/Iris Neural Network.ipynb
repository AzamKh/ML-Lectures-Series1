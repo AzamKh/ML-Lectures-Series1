{
 "cells": [
  {
   "cell_type": "markdown",
   "metadata": {},
   "source": [
    "# Neural Network over Iris Dataset\n",
    "\n",
    "## Import Libraries"
   ]
  },
  {
   "cell_type": "code",
   "execution_count": 2,
   "metadata": {},
   "outputs": [],
   "source": [
    "import numpy as np\n",
    "from matplotlib import pyplot as plt\n",
    "from sklearn import datasets"
   ]
  },
  {
   "cell_type": "markdown",
   "metadata": {},
   "source": [
    "# Load the Iris Data Set"
   ]
  },
  {
   "cell_type": "code",
   "execution_count": 29,
   "metadata": {},
   "outputs": [],
   "source": [
    "iris = datasets.load_iris()\n",
    "X = iris.data\n",
    "y = np.atleast_2d(iris.target).T"
   ]
  },
  {
   "cell_type": "markdown",
   "metadata": {},
   "source": [
    "# Define Functions"
   ]
  },
  {
   "cell_type": "code",
   "execution_count": 4,
   "metadata": {},
   "outputs": [],
   "source": [
    "def sigmoid(x, derivative=False):\n",
    "    if derivative:\n",
    "        return x * (1 - x)\n",
    "    return 1 / (1 + np.exp(-x))"
   ]
  },
  {
   "cell_type": "code",
   "execution_count": 5,
   "metadata": {},
   "outputs": [],
   "source": [
    "def feedforward(X):\n",
    "    z_h = np.dot(X, w01)\n",
    "    a_h = sigmoid(z_h)\n",
    "\n",
    "    z_o = np.dot(a_h, w12)\n",
    "    a_o = sigmoid(z_o)\n",
    "    return(a_o,a_h)"
   ]
  },
  {
   "cell_type": "markdown",
   "metadata": {},
   "source": [
    "# Define Parameters"
   ]
  },
  {
   "cell_type": "code",
   "execution_count": 16,
   "metadata": {},
   "outputs": [],
   "source": [
    "# Learning Rate\n",
    "eta = 0.01\n",
    "\n",
    "# Number of epochs for learning\n",
    "epochs = 1000\n",
    "\n",
    "# Number of Hidden Neurons\n",
    "hidden = 10"
   ]
  },
  {
   "cell_type": "markdown",
   "metadata": {},
   "source": [
    "# Initialize the weights"
   ]
  },
  {
   "cell_type": "code",
   "execution_count": 17,
   "metadata": {},
   "outputs": [],
   "source": [
    "w01 = np.random.random((len(X[0]), hidden))\n",
    "w12 = np.random.random((hidden, 1))"
   ]
  },
  {
   "cell_type": "markdown",
   "metadata": {},
   "source": [
    "# Start feeding forward and backpropagate *epochs* times."
   ]
  },
  {
   "cell_type": "code",
   "execution_count": 18,
   "metadata": {},
   "outputs": [],
   "source": [
    "error_total=[]\n",
    "error_total0=[]\n",
    "error_total1=[]\n",
    "error_total2=[]\n",
    "\n",
    "for epoch in range(epochs):\n",
    "    a_o, a_h = feedforward(X)\n",
    "    \n",
    "    # Calculate the error\n",
    "    a_o_error = ((1 / 2) * (np.power((a_o - y), 2)))\n",
    "\n",
    "    a_o_err_y = np.concatenate((a_o_error,y), axis=1)\n",
    "    a_o_err_y0 = a_o_err_y[a_o_err_y[:,1]==0][:,0]\n",
    "    a_o_err_y1 = a_o_err_y[a_o_err_y[:,1]==1][:,0]\n",
    "    a_o_err_y2 = a_o_err_y[a_o_err_y[:,1]==2][:,0]\n",
    "    \n",
    "    error_total = np.append(error_total,sum(a_o_error))\n",
    "    error_total0 = np.append(error_total0,sum(a_o_err_y0))\n",
    "    error_total1 = np.append(error_total1,sum(a_o_err_y1))\n",
    "    error_total2 = np.append(error_total2,sum(a_o_err_y2))\n",
    "\n",
    "    #print(sum(a_o_error))\n",
    "\n",
    "    # Backpropagation\n",
    "    ## Output to Hidden Layer weights\n",
    "    delta_a_o_error = a_o - y\n",
    "    delta_z_o = sigmoid(a_o,derivative=True)\n",
    "    delta_w12 = a_h\n",
    "    delta_output_layer = np.dot(delta_w12.T,(delta_a_o_error * delta_z_o))\n",
    "\n",
    "    ## Hidden to Input Layer weights\n",
    "    delta_a_h = np.dot(delta_a_o_error * delta_z_o, w12.T)\n",
    "    delta_z_h = sigmoid(a_h,derivative=True)\n",
    "    delta_w01 = X\n",
    "    delta_hidden_layer = np.dot(delta_w01.T, delta_a_h * delta_z_h)\n",
    "\n",
    "    # Adjust weights\n",
    "    w01 = w01 - eta * delta_hidden_layer\n",
    "    w12 = w12 - eta * delta_output_layer"
   ]
  },
  {
   "cell_type": "markdown",
   "metadata": {},
   "source": [
    "# Show final total error, type contribution to error"
   ]
  },
  {
   "cell_type": "code",
   "execution_count": 36,
   "metadata": {},
   "outputs": [
    {
     "name": "stdout",
     "output_type": "stream",
     "text": [
      "Total error: [25.16742596]\n",
      "Type 0 error: 0.06179566481304631\n",
      "Type 1 error: 0.00218394610979192\n",
      "Type 2 error: 25.103446353169836\n"
     ]
    }
   ],
   "source": [
    "print(\"Total error:\",sum(a_o_error))\n",
    "print(\"Type 0 error:\",sum(a_o_err_y0))\n",
    "print(\"Type 1 error:\",sum(a_o_err_y1))\n",
    "print(\"Type 2 error:\",sum(a_o_err_y2))"
   ]
  },
  {
   "cell_type": "markdown",
   "metadata": {},
   "source": [
    "# Plot error after each epoch"
   ]
  },
  {
   "cell_type": "code",
   "execution_count": 37,
   "metadata": {},
   "outputs": [
    {
     "data": {
      "text/plain": [
       "[<matplotlib.lines.Line2D at 0x1c54b8063c8>]"
      ]
     },
     "execution_count": 37,
     "metadata": {},
     "output_type": "execute_result"
    },
    {
     "data": {
      "image/png": "[encoded data removed]",
      "text/plain": [
       "<Figure size 432x288 with 1 Axes>"
      ]
     },
     "metadata": {},
     "output_type": "display_data"
    }
   ],
   "source": [
    "plt.plot(error_total)\n",
    "plt.plot(error_total0)\n",
    "plt.plot(error_total1)\n",
    "plt.plot(error_total2)"
   ]
  },
  {
   "cell_type": "markdown",
   "metadata": {},
   "source": [
    "# Show independent, dependent, predicted values"
   ]
  },
  {
   "cell_type": "code",
   "execution_count": 38,
   "metadata": {},
   "outputs": [
    {
     "name": "stdout",
     "output_type": "stream",
     "text": [
      "[[5.1        3.5        1.4        0.2        0.         0.04617202]\n",
      " [4.9        3.         1.4        0.2        0.         0.0509647 ]\n",
      " [4.7        3.2        1.3        0.2        0.         0.04894603]\n",
      " [4.6        3.1        1.5        0.2        0.         0.05437491]\n",
      " [5.         3.6        1.4        0.2        0.         0.04602407]\n",
      " [5.4        3.9        1.7        0.4        0.         0.04682685]\n",
      " [4.6        3.4        1.4        0.3        0.         0.05029922]\n",
      " [5.         3.4        1.5        0.2        0.         0.04822735]\n",
      " [4.4        2.9        1.4        0.2        0.         0.0572138 ]\n",
      " [4.9        3.1        1.5        0.1        0.         0.0503657 ]\n",
      " [5.4        3.7        1.5        0.2        0.         0.04501377]\n",
      " [4.8        3.4        1.6        0.2        0.         0.05096211]\n",
      " [4.8        3.         1.4        0.1        0.         0.05046016]\n",
      " [4.3        3.         1.1        0.1        0.         0.04946335]\n",
      " [5.8        4.         1.2        0.2        0.         0.04254417]\n",
      " [5.7        4.4        1.5        0.4        0.         0.04305239]\n",
      " [5.4        3.9        1.3        0.4        0.         0.0440514 ]\n",
      " [5.1        3.5        1.4        0.3        0.         0.04682158]\n",
      " [5.7        3.8        1.7        0.3        0.         0.0455735 ]\n",
      " [5.1        3.8        1.5        0.3        0.         0.04605781]\n",
      " [5.4        3.4        1.7        0.2        0.         0.04857805]\n",
      " [5.1        3.7        1.5        0.4        0.         0.04733401]\n",
      " [4.6        3.6        1.         0.2        0.         0.04477164]\n",
      " [5.1        3.3        1.7        0.5        0.         0.05696836]\n",
      " [4.8        3.4        1.9        0.2        0.         0.05841044]\n",
      " [5.         3.         1.6        0.2        0.         0.05413025]\n",
      " [5.         3.4        1.6        0.4        0.         0.05215712]\n",
      " [5.2        3.5        1.5        0.2        0.         0.04664897]\n",
      " [5.2        3.4        1.4        0.2        0.         0.04632862]\n",
      " [4.7        3.2        1.6        0.2        0.         0.05431885]\n",
      " [4.8        3.1        1.6        0.2        0.         0.05473853]\n",
      " [5.4        3.4        1.5        0.4        0.         0.04794494]\n",
      " [5.2        4.1        1.5        0.1        0.         0.04379209]\n",
      " [5.5        4.2        1.4        0.2        0.         0.04299309]\n",
      " [4.9        3.1        1.5        0.1        0.         0.0503657 ]\n",
      " [5.         3.2        1.2        0.2        0.         0.04651995]\n",
      " [5.5        3.5        1.3        0.2        0.         0.04439369]\n",
      " [4.9        3.1        1.5        0.1        0.         0.0503657 ]\n",
      " [4.4        3.         1.3        0.2        0.         0.05320516]\n",
      " [5.1        3.4        1.5        0.2        0.         0.0477207 ]\n",
      " [5.         3.5        1.3        0.3        0.         0.04633502]\n",
      " [4.5        2.3        1.3        0.3        0.         0.06936504]\n",
      " [4.4        3.2        1.3        0.2        0.         0.05090051]\n",
      " [5.         3.5        1.6        0.6        0.         0.05418034]\n",
      " [5.1        3.8        1.9        0.4        0.         0.05269691]\n",
      " [4.8        3.         1.4        0.3        0.         0.05322339]\n",
      " [5.1        3.8        1.6        0.2        0.         0.04628294]\n",
      " [4.6        3.2        1.4        0.2        0.         0.05109262]\n",
      " [5.3        3.7        1.5        0.2        0.         0.04530525]\n",
      " [5.         3.3        1.4        0.2        0.         0.04779301]\n",
      " [7.         3.2        4.7        1.4        1.         0.99445952]\n",
      " [6.4        3.2        4.5        1.5        1.         0.99538549]\n",
      " [6.9        3.1        4.9        1.5        1.         0.99660671]\n",
      " [5.5        2.3        4.         1.3        1.         0.99649795]\n",
      " [6.5        2.8        4.6        1.5        1.         0.99670371]\n",
      " [5.7        2.8        4.5        1.3        1.         0.99691367]\n",
      " [6.3        3.3        4.7        1.6        1.         0.99661695]\n",
      " [4.9        2.4        3.3        1.         1.         0.98641299]\n",
      " [6.6        2.9        4.6        1.3        1.         0.99563851]\n",
      " [5.2        2.7        3.9        1.4        1.         0.99592501]\n",
      " [5.         2.         3.5        1.         1.         0.99433105]\n",
      " [5.9        3.         4.2        1.5        1.         0.99547829]\n",
      " [6.         2.2        4.         1.         1.         0.9941564 ]\n",
      " [6.1        2.9        4.7        1.4        1.         0.99705023]\n",
      " [5.6        2.9        3.6        1.3        1.         0.98476039]\n",
      " [6.7        3.1        4.4        1.4        1.         0.9930345 ]\n",
      " [5.6        3.         4.5        1.5        1.         0.99709144]\n",
      " [5.8        2.7        4.1        1.         1.         0.99288245]\n",
      " [6.2        2.2        4.5        1.5        1.         0.99745047]\n",
      " [5.6        2.5        3.9        1.1        1.         0.99378032]\n",
      " [5.9        3.2        4.8        1.8        1.         0.99754332]\n",
      " [6.1        2.8        4.         1.3        1.         0.99203428]\n",
      " [6.3        2.5        4.9        1.5        1.         0.99765786]\n",
      " [6.1        2.8        4.7        1.2        1.         0.99681773]\n",
      " [6.4        2.9        4.3        1.3        1.         0.99378958]\n",
      " [6.6        3.         4.4        1.4        1.         0.99419839]\n",
      " [6.8        2.8        4.8        1.4        1.         0.99671925]\n",
      " [6.7        3.         5.         1.7        1.         0.99744052]\n",
      " [6.         2.9        4.5        1.5        1.         0.99683745]\n",
      " [5.7        2.6        3.5        1.         1.         0.97183298]\n",
      " [5.5        2.4        3.8        1.1        1.         0.99374425]\n",
      " [5.5        2.4        3.7        1.         1.         0.99095928]\n",
      " [5.8        2.7        3.9        1.2        1.         0.99208268]\n",
      " [6.         2.7        5.1        1.6        1.         0.99784514]\n",
      " [5.4        3.         4.5        1.5        1.         0.9972483 ]\n",
      " [6.         3.4        4.5        1.6        1.         0.99607571]\n",
      " [6.7        3.1        4.7        1.5        1.         0.9961386 ]\n",
      " [6.3        2.3        4.4        1.3        1.         0.99674904]\n",
      " [5.6        3.         4.1        1.3        1.         0.99446957]\n",
      " [5.5        2.5        4.         1.3        1.         0.99601625]\n",
      " [5.5        2.6        4.4        1.2        1.         0.99696436]\n",
      " [6.1        3.         4.6        1.4        1.         0.99662131]\n",
      " [5.8        2.6        4.         1.2        1.         0.99419037]\n",
      " [5.         2.3        3.3        1.         1.         0.98702289]\n",
      " [5.6        2.7        4.2        1.3        1.         0.99623051]\n",
      " [5.7        3.         4.2        1.2        1.         0.99432177]\n",
      " [5.7        2.9        4.2        1.3        1.         0.99539873]\n",
      " [6.2        2.9        4.3        1.3        1.         0.99461418]\n",
      " [5.1        2.5        3.         1.1        1.         0.95587615]\n",
      " [5.7        2.8        4.1        1.3        1.         0.9950916 ]\n",
      " [6.3        3.3        6.         2.5        2.         0.99806569]\n",
      " [5.8        2.7        5.1        1.9        2.         0.99795753]\n",
      " [7.1        3.         5.9        2.1        2.         0.99800883]\n",
      " [6.3        2.9        5.6        1.8        2.         0.9979832 ]\n",
      " [6.5        3.         5.8        2.2        2.         0.99803934]\n",
      " [7.6        3.         6.6        2.1        2.         0.99806339]\n",
      " [4.9        2.5        4.5        1.7        2.         0.99786358]\n",
      " [7.3        2.9        6.3        1.8        2.         0.99803249]\n",
      " [6.7        2.5        5.8        1.8        2.         0.99803166]\n",
      " [7.2        3.6        6.1        2.5        2.         0.99802393]\n",
      " [6.5        3.2        5.1        2.         2.         0.99772824]\n",
      " [6.4        2.7        5.3        1.9        2.         0.99794446]\n",
      " [6.8        3.         5.5        2.1        2.         0.99794675]\n",
      " [5.7        2.5        5.         2.         2.         0.99798984]\n",
      " [5.8        2.8        5.1        2.4        2.         0.99801996]\n",
      " [6.4        3.2        5.3        2.3        2.         0.99794499]\n",
      " [6.5        3.         5.5        1.8        2.         0.99791607]\n",
      " [7.7        3.8        6.7        2.2        2.         0.99803172]\n",
      " [7.7        2.6        6.9        2.3        2.         0.99809006]\n",
      " [6.         2.2        5.         1.5        2.         0.99789856]\n",
      " [6.9        3.2        5.7        2.3        2.         0.99799227]\n",
      " [5.6        2.8        4.9        2.         2.         0.99792605]\n",
      " [7.7        2.8        6.7        2.         2.         0.99807053]\n",
      " [6.3        2.7        4.9        1.8        2.         0.99774103]\n",
      " [6.7        3.3        5.7        2.1        2.         0.99796511]\n",
      " [7.2        3.2        6.         1.8        2.         0.99794762]\n",
      " [6.2        2.8        4.8        1.8        2.         0.99764869]\n",
      " [6.1        3.         4.9        1.8        2.         0.99767235]\n",
      " [6.4        2.8        5.6        2.1        2.         0.99802545]\n",
      " [7.2        3.         5.8        1.6        2.         0.997864  ]\n",
      " [7.4        2.8        6.1        1.9        2.         0.99801715]\n",
      " [7.9        3.8        6.4        2.         2.         0.99792326]\n",
      " [6.4        2.8        5.6        2.2        2.         0.99803494]\n",
      " [6.3        2.8        5.1        1.5        2.         0.99768208]\n",
      " [6.1        2.6        5.6        1.4        2.         0.99797564]\n",
      " [7.7        3.         6.1        2.3        2.         0.99802368]\n",
      " [6.3        3.4        5.6        2.4        2.         0.99801067]\n",
      " [6.4        3.1        5.5        1.8        2.         0.99790988]\n",
      " [6.         3.         4.8        1.8        2.         0.99761895]\n",
      " [6.9        3.1        5.4        2.1        2.         0.99787722]\n",
      " [6.7        3.1        5.6        2.4        2.         0.99801239]\n",
      " [6.9        3.1        5.1        2.3        2.         0.99779972]\n",
      " [5.8        2.7        5.1        1.9        2.         0.99795753]\n",
      " [6.8        3.2        5.9        2.3        2.         0.99803083]\n",
      " [6.7        3.3        5.7        2.5        2.         0.9980209 ]\n",
      " [6.7        3.         5.2        2.3        2.         0.99790943]\n",
      " [6.3        2.5        5.         1.9        2.         0.9978948 ]\n",
      " [6.5        3.         5.2        2.         2.         0.99785354]\n",
      " [6.2        3.4        5.4        2.3        2.         0.99796314]\n",
      " [5.9        3.         5.1        1.8        2.         0.99785205]]\n"
     ]
    }
   ],
   "source": [
    "a_o, a_h = feedforward(X)\n",
    "print(np.concatenate((X,y,a_o),axis=1))"
   ]
  },
  {
   "cell_type": "code",
   "execution_count": null,
   "metadata": {},
   "outputs": [],
   "source": []
  }
 ],
 "metadata": {
  "kernelspec": {
   "display_name": "Python 3",
   "language": "python",
   "name": "python3"
  },
  "language_info": {
   "codemirror_mode": {
    "name": "ipython",
    "version": 3
   },
   "file_extension": ".py",
   "mimetype": "text/x-python",
   "name": "python",
   "nbconvert_exporter": "python",
   "pygments_lexer": "ipython3",
   "version": "3.6.5"
  }
 },
 "nbformat": 4,
 "nbformat_minor": 2
}
