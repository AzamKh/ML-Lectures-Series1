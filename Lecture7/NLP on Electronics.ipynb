{
 "cells": [
  {
   "cell_type": "code",
   "execution_count": 1,
   "metadata": {},
   "outputs": [],
   "source": [
    "import pandas as pd\n",
    "import re\n",
    "from sklearn.feature_extraction.text import CountVectorizer\n",
    "from sklearn.feature_extraction.text import TfidfVectorizer\n",
    "from sklearn.linear_model import LogisticRegression\n",
    "from sklearn.metrics import accuracy_score\n",
    "from sklearn.model_selection import train_test_split\n",
    "from nltk.stem.porter import PorterStemmer"
   ]
  },
  {
   "cell_type": "code",
   "execution_count": 2,
   "metadata": {},
   "outputs": [],
   "source": [
    "reviews = []\n",
    "for line in open('all_balanced.review_e', 'r'):\n",
    "    reviews.append(line.strip())\n",
    "#reviews[0]"
   ]
  },
  {
   "cell_type": "code",
   "execution_count": 3,
   "metadata": {},
   "outputs": [],
   "source": [
    "text=[]\n",
    "rate_text=[]\n",
    "for review in reviews:\n",
    "    for match in re.finditer(r'(#label#:\\d)', review):\n",
    "        text.append(review[0:match.span()[0]])\n",
    "        rate_text.append(match.groups()[0])\n",
    "#print(text[0])\n",
    "#print(rate_text)"
   ]
  },
  {
   "cell_type": "code",
   "execution_count": 4,
   "metadata": {
    "scrolled": false
   },
   "outputs": [],
   "source": [
    "ratings = [int(int(rate[8:9])>3) for rate in rate_text]\n",
    "#ratings"
   ]
  },
  {
   "cell_type": "code",
   "execution_count": 5,
   "metadata": {},
   "outputs": [],
   "source": [
    "def remove_count(text):\n",
    "    i=0\n",
    "    for match in re.finditer(r'(:\\d)',text):\n",
    "        text = text[0:match.span()[0]-i] + text[match.span()[1]-i:len(text)]\n",
    "        i += 2\n",
    "    return(text)"
   ]
  },
  {
   "cell_type": "code",
   "execution_count": 7,
   "metadata": {},
   "outputs": [],
   "source": [
    "clean_text=[]\n",
    "for line in text:\n",
    "    clean_text.append(remove_count(line))\n",
    "#clean_text[0]"
   ]
  },
  {
   "cell_type": "code",
   "execution_count": 8,
   "metadata": {},
   "outputs": [],
   "source": [
    "REPLACE_NO_SPACE = re.compile(\"(\\.)|(\\;)|(\\:)|(\\!)|(\\')|(\\?)|(\\,)|(\\\")|(\\()|(\\))|(\\[)|(\\])|(\\<)|(\\>)\")\n",
    "REPLACE_WITH_SPACE = re.compile(\"(<br\\s*/><br\\s*/>)|(\\-)|(\\/)|(\\_)\")\n",
    "\n",
    "def preprocess_reviews(reviews):\n",
    "    reviews = [REPLACE_NO_SPACE.sub(\"\", line.lower()) for line in reviews]\n",
    "    reviews = [REPLACE_WITH_SPACE.sub(\" \", line) for line in reviews]\n",
    "    \n",
    "    return reviews"
   ]
  },
  {
   "cell_type": "code",
   "execution_count": 9,
   "metadata": {},
   "outputs": [],
   "source": [
    "reviews_clean = preprocess_reviews(clean_text)\n",
    "#reviews_clean[0]"
   ]
  },
  {
   "cell_type": "code",
   "execution_count": 10,
   "metadata": {},
   "outputs": [],
   "source": [
    "porter=PorterStemmer()\n",
    "\n",
    "reviews_clean_stemmed = []\n",
    "for reviews in reviews_clean:\n",
    "    stems = [porter.stem(word)+' ' for word in reviews.split()]\n",
    "    reviews_clean_stemmed.append(\"\".join(stems))\n",
    "#reviews_clean_stemmed[0]"
   ]
  },
  {
   "cell_type": "code",
   "execution_count": 11,
   "metadata": {},
   "outputs": [
    {
     "name": "stdout",
     "output_type": "stream",
     "text": [
      "(5901, 19542)\n"
     ]
    }
   ],
   "source": [
    "cv = CountVectorizer(binary=True)\n",
    "cv.fit(reviews_clean_stemmed)\n",
    "X = cv.transform(reviews_clean_stemmed)\n",
    "#print(X.toarray())\n",
    "#print(cv.get_feature_names())\n",
    "print(X.shape)"
   ]
  },
  {
   "cell_type": "code",
   "execution_count": 12,
   "metadata": {},
   "outputs": [
    {
     "name": "stdout",
     "output_type": "stream",
     "text": [
      "[[0. 0. 0. ... 0. 0. 0.]\n",
      " [0. 0. 0. ... 0. 0. 0.]\n",
      " [0. 0. 0. ... 0. 0. 0.]\n",
      " ...\n",
      " [0. 0. 0. ... 0. 0. 0.]\n",
      " [0. 0. 0. ... 0. 0. 0.]\n",
      " [0. 0. 0. ... 0. 0. 0.]]\n",
      "(5901, 19542)\n"
     ]
    }
   ],
   "source": [
    "tfidf = TfidfVectorizer()\n",
    "X = tfidf.fit_transform(reviews_clean_stemmed)\n",
    "print(X.toarray())\n",
    "print(X.shape)"
   ]
  },
  {
   "cell_type": "code",
   "execution_count": 13,
   "metadata": {},
   "outputs": [
    {
     "name": "stderr",
     "output_type": "stream",
     "text": [
      "c:\\program files\\python36\\lib\\site-packages\\sklearn\\model_selection\\_split.py:2026: FutureWarning: From version 0.21, test_size will always complement train_size unless both are specified.\n",
      "  FutureWarning)\n"
     ]
    }
   ],
   "source": [
    "X_train, X_test, y_train, y_test = train_test_split(\n",
    "    X, ratings, train_size = 0.75, random_state=1)"
   ]
  },
  {
   "cell_type": "code",
   "execution_count": 14,
   "metadata": {},
   "outputs": [
    {
     "name": "stderr",
     "output_type": "stream",
     "text": [
      "c:\\program files\\python36\\lib\\site-packages\\sklearn\\model_selection\\_split.py:2026: FutureWarning: From version 0.21, test_size will always complement train_size unless both are specified.\n",
      "  FutureWarning)\n"
     ]
    },
    {
     "name": "stdout",
     "output_type": "stream",
     "text": [
      "Accuracy for C=0.01: 0.8130081300813008\n",
      "Accuracy for C=0.05: 0.8220415537488708\n",
      "Accuracy for C=0.25: 0.8355916892502259\n",
      "Accuracy for C=0.5: 0.8455284552845529\n",
      "Accuracy for C=1: 0.8536585365853658\n"
     ]
    }
   ],
   "source": [
    "X_train2, X_val, y_train2, y_val = train_test_split(\n",
    "    X_train, y_train, train_size = 0.75, random_state=1)\n",
    "\n",
    "for c in [0.01, 0.05, 0.25, 0.5, 1]:\n",
    "    \n",
    "    lr = LogisticRegression(C=c)\n",
    "    lr.fit(X_train2, y_train2)\n",
    "    print (\"Accuracy for C=%s: %s\" \n",
    "           % (c, accuracy_score(y_val, lr.predict(X_val))))"
   ]
  },
  {
   "cell_type": "code",
   "execution_count": 15,
   "metadata": {},
   "outputs": [
    {
     "name": "stdout",
     "output_type": "stream",
     "text": [
      "Final Accuracy: 0.8367208672086721\n"
     ]
    }
   ],
   "source": [
    "final_model = LogisticRegression(C=.25)\n",
    "final_model.fit(X_train, y_train)\n",
    "print (\"Final Accuracy: %s\" \n",
    "       % accuracy_score(y_test, final_model.predict(X_test)))"
   ]
  },
  {
   "cell_type": "code",
   "execution_count": 16,
   "metadata": {},
   "outputs": [],
   "source": [
    "feature_to_coef = {\n",
    "    word: coef for word, coef in zip(\n",
    "        cv.get_feature_names(), final_model.coef_[0]\n",
    "    )\n",
    "}"
   ]
  },
  {
   "cell_type": "code",
   "execution_count": 17,
   "metadata": {},
   "outputs": [
    {
     "name": "stdout",
     "output_type": "stream",
     "text": [
      "('great', 3.6650672713273735)\n",
      "('easi', 2.1264550530605373)\n",
      "('good', 1.7290371930967103)\n",
      "('excel', 1.6513705833978531)\n",
      "('price', 1.6149153708910073)\n",
      "('littl', 1.5471430463587588)\n",
      "('well', 1.4453883839420179)\n",
      "('love', 1.3221256877828178)\n",
      "('best', 1.26580441840688)\n",
      "('and', 1.2488612129365388)\n",
      "('perfect', 1.1706005784230284)\n",
      "('veri', 1.1537493368006366)\n",
      "('happi', 1.022035869794069)\n",
      "('highli', 1.007894147905282)\n",
      "('need', 0.951830019813722)\n"
     ]
    }
   ],
   "source": [
    "for best_positive in sorted(\n",
    "    feature_to_coef.items(), \n",
    "    key=lambda x: x[1], \n",
    "    reverse=True)[:15]:\n",
    "    print (best_positive)"
   ]
  },
  {
   "cell_type": "code",
   "execution_count": 18,
   "metadata": {},
   "outputs": [
    {
     "name": "stdout",
     "output_type": "stream",
     "text": [
      "('not', -2.81110633756977)\n",
      "('return', -2.2258778145872355)\n",
      "('poor', -1.7299336542655193)\n",
      "('tri', -1.5323506054346638)\n",
      "('wast', -1.412525693332159)\n",
      "('after', -1.3877357936863717)\n",
      "('disappoint', -1.2880860212297287)\n",
      "('bad', -1.2468944069542889)\n",
      "('support', -1.2053012642834906)\n",
      "('buy', -1.1197920555283813)\n",
      "('back', -1.0974955402841133)\n",
      "('doesnt', -0.9250799669608176)\n",
      "('stop', -0.8933394511216963)\n",
      "('call', -0.8865215187321196)\n",
      "('they', -0.8835064378998665)\n"
     ]
    }
   ],
   "source": [
    "for best_negative in sorted(\n",
    "    feature_to_coef.items(), \n",
    "    key=lambda x: x[1])[:15]:\n",
    "    print (best_negative)"
   ]
  },
  {
   "cell_type": "code",
   "execution_count": 19,
   "metadata": {},
   "outputs": [],
   "source": [
    "test_reviews = []\n",
    "for line in open('all_balanced.review_k', 'r'):\n",
    "    test_reviews.append(line.strip())\n",
    "test_reviews[0]"
   ]
  },
  {
   "cell_type": "code",
   "execution_count": 20,
   "metadata": {},
   "outputs": [],
   "source": [
    "text=[]\n",
    "rate_text=[]\n",
    "for review in test_reviews:\n",
    "    for match in re.finditer(r'(#label#:\\d)', review):\n",
    "        text.append(review[0:match.span()[0]])\n",
    "        rate_text.append(match.groups()[0])"
   ]
  },
  {
   "cell_type": "code",
   "execution_count": 21,
   "metadata": {},
   "outputs": [],
   "source": [
    "test_ratings = [int(int(rate[8:9])>3) for rate in rate_text]"
   ]
  },
  {
   "cell_type": "code",
   "execution_count": 22,
   "metadata": {},
   "outputs": [],
   "source": [
    "clean_text=[]\n",
    "for line in text:\n",
    "    clean_text.append(remove_count(line))"
   ]
  },
  {
   "cell_type": "code",
   "execution_count": 23,
   "metadata": {},
   "outputs": [],
   "source": [
    "reviews_clean = preprocess_reviews(clean_text)"
   ]
  },
  {
   "cell_type": "code",
   "execution_count": 24,
   "metadata": {},
   "outputs": [],
   "source": [
    "reviews_clean_stemmed = []\n",
    "for reviews in reviews_clean:\n",
    "    stems = [porter.stem(word)+' ' for word in reviews.split()]\n",
    "    reviews_clean_stemmed.append(\"\".join(stems))"
   ]
  },
  {
   "cell_type": "code",
   "execution_count": 25,
   "metadata": {},
   "outputs": [
    {
     "name": "stdout",
     "output_type": "stream",
     "text": [
      "(5149, 19542)\n"
     ]
    }
   ],
   "source": [
    "X_testf = tfidf.transform(reviews_clean_stemmed)\n",
    "#print(X.toarray())\n",
    "#print(cv.get_feature_names())\n",
    "print(X_testf.shape)"
   ]
  },
  {
   "cell_type": "code",
   "execution_count": 26,
   "metadata": {},
   "outputs": [
    {
     "name": "stdout",
     "output_type": "stream",
     "text": [
      "Complete Accuracy: 0.8292872402408235\n"
     ]
    }
   ],
   "source": [
    "print (\"Complete Accuracy: %s\" \n",
    "       % accuracy_score(test_ratings, final_model.predict(X_testf)))"
   ]
  },
  {
   "cell_type": "code",
   "execution_count": null,
   "metadata": {},
   "outputs": [],
   "source": []
  }
 ],
 "metadata": {
  "kernelspec": {
   "display_name": "Python 3",
   "language": "python",
   "name": "python3"
  },
  "language_info": {
   "codemirror_mode": {
    "name": "ipython",
    "version": 3
   },
   "file_extension": ".py",
   "mimetype": "text/x-python",
   "name": "python",
   "nbconvert_exporter": "python",
   "pygments_lexer": "ipython3",
   "version": "3.6.5"
  }
 },
 "nbformat": 4,
 "nbformat_minor": 2
}
